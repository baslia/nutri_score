{
 "cells": [
  {
   "cell_type": "code",
   "id": "initial_id",
   "metadata": {
    "collapsed": true,
    "ExecuteTime": {
     "end_time": "2025-01-11T08:17:00.084243Z",
     "start_time": "2025-01-11T08:17:00.081710Z"
    }
   },
   "source": "import pandas as pd",
   "outputs": [],
   "execution_count": 19
  },
  {
   "metadata": {
    "ExecuteTime": {
     "end_time": "2025-01-11T08:17:00.863957Z",
     "start_time": "2025-01-11T08:17:00.762912Z"
    }
   },
   "cell_type": "code",
   "source": [
    "sample = 10000\n",
    "\n",
    "product = ['code', 'countries_en','url', 'product_name', 'brands', 'categories_en']\n",
    "\n",
    "nutrient = ['energy_100g','saturated-fat_100g', 'sugars_100g', 'fiber_100g', 'proteins_100g', 'sodium_100g']\n",
    "\n",
    "columns_to_load = product + nutrient\n",
    "\n",
    "opf_data = pd.read_csv('/Users/baslad01/data_dump/openfoodfacts/product_data/en.openfoodfacts.org.products.csv', sep='\\t', encoding='utf-8',\n",
    "                       on_bad_lines='skip',\n",
    "                       usecols=columns_to_load,\n",
    "                       nrows=sample)"
   ],
   "id": "2f15b94172311e1b",
   "outputs": [],
   "execution_count": 20
  },
  {
   "metadata": {
    "ExecuteTime": {
     "end_time": "2025-01-11T08:17:10.534839Z",
     "start_time": "2025-01-11T08:17:10.435814Z"
    }
   },
   "cell_type": "code",
   "source": [
    "def calculate_npm_score(row):\n",
    "    try:\n",
    "        # Category A points (detrimental components)\n",
    "        a_points = 0\n",
    "        a_points += row['energy_100g'] // 335  # Energy (kJ) - 1 point per 335kJ\n",
    "        a_points += min(10, row['saturated-fat_100g'] // 1) # Saturated fat (g) - max 10 points\n",
    "        a_points += min(10, row['sugars_100g'] // 4.5)  # Total sugars (g) - max 10 points\n",
    "        a_points += row['sodium_100g'] // 0.09  # Sodium (g) - 1 point per 0.09g\n",
    "\n",
    "        # Category C points (beneficial components)\n",
    "        c_points = 0\n",
    "        # Check if fruit/vegetable/nut content is available. Open Food Facts doesn't have a direct field for this.\n",
    "        # You would need to add this information if you want to use this part of the model.\n",
    "        # For this example I will set it to 0\n",
    "        fruit_veg_nut_content = 0\n",
    "        c_points += fruit_veg_nut_content\n",
    "\n",
    "        c_points += row['fiber_100g'] // 0.8  # Fibre (g) - 1 point per 0.8g\n",
    "        c_points += row['proteins_100g'] // 1.6  # Protein (g) - 1 point per 1.6g\n",
    "\n",
    "        # Final NPM score\n",
    "        npm_score = a_points - c_points\n",
    "\n",
    "        # Protein cap (if A points >= 11 and fruit/veg/nut content < 5)\n",
    "        if a_points >= 11 and fruit_veg_nut_content < 5:\n",
    "          npm_score = a_points - (c_points - row['proteins_100g'] // 1.6)\n",
    "\n",
    "        return npm_score\n",
    "    except (TypeError, KeyError):  # Handle missing or non-numeric data\n",
    "        return None\n",
    "\n",
    "# Convert to numeric, handling errors\n",
    "for col in nutrient:\n",
    "    opf_data[col] = pd.to_numeric(opf_data[col], errors='coerce')\n",
    "\n",
    "# Apply the function to each row\n",
    "opf_data['hfss_score'] = opf_data.apply(calculate_npm_score, axis=1)\n",
    "\n",
    "# HFSS classification (foods >= 4, drinks >= 1)\n",
    "opf_data['is_hfss'] = ((opf_data['hfss_score'] >= 4) | ((opf_data['hfss_score'] >= 1) & (opf_data['product_name'].str.contains('drink', case=False, na=False)))).astype(int)\n",
    "\n",
    "opf_data[['countries_en','product_name', 'hfss_score', 'is_hfss']]"
   ],
   "id": "10ea967df0cd382b",
   "outputs": [
    {
     "data": {
      "text/plain": [
       "                      countries_en                   product_name  hfss_score  \\\n",
       "0                           France  Limonade artisanale a la rose         NaN   \n",
       "1                           France              Tablette Tanzanie         NaN   \n",
       "2     France,Germany,United States                      CORDYCEPS         NaN   \n",
       "3                    United States                            NaN         NaN   \n",
       "4                   Germany,Greece           Javvy protein coffee         5.0   \n",
       "...                            ...                            ...         ...   \n",
       "9995                 United States                   Jasmine Rice         1.0   \n",
       "9996                    Bangladesh                            NaN         NaN   \n",
       "9997                       Germany            Entöltes Mandelmehl         NaN   \n",
       "9998                       Ireland         Poulet curry vert thaï         NaN   \n",
       "9999                       Germany       Feinherb Nuss Schokolade         NaN   \n",
       "\n",
       "      is_hfss  \n",
       "0           0  \n",
       "1           0  \n",
       "2           0  \n",
       "3           0  \n",
       "4           1  \n",
       "...       ...  \n",
       "9995        0  \n",
       "9996        0  \n",
       "9997        0  \n",
       "9998        0  \n",
       "9999        0  \n",
       "\n",
       "[10000 rows x 4 columns]"
      ],
      "text/html": [
       "<div>\n",
       "<style scoped>\n",
       "    .dataframe tbody tr th:only-of-type {\n",
       "        vertical-align: middle;\n",
       "    }\n",
       "\n",
       "    .dataframe tbody tr th {\n",
       "        vertical-align: top;\n",
       "    }\n",
       "\n",
       "    .dataframe thead th {\n",
       "        text-align: right;\n",
       "    }\n",
       "</style>\n",
       "<table border=\"1\" class=\"dataframe\">\n",
       "  <thead>\n",
       "    <tr style=\"text-align: right;\">\n",
       "      <th></th>\n",
       "      <th>countries_en</th>\n",
       "      <th>product_name</th>\n",
       "      <th>hfss_score</th>\n",
       "      <th>is_hfss</th>\n",
       "    </tr>\n",
       "  </thead>\n",
       "  <tbody>\n",
       "    <tr>\n",
       "      <th>0</th>\n",
       "      <td>France</td>\n",
       "      <td>Limonade artisanale a la rose</td>\n",
       "      <td>NaN</td>\n",
       "      <td>0</td>\n",
       "    </tr>\n",
       "    <tr>\n",
       "      <th>1</th>\n",
       "      <td>France</td>\n",
       "      <td>Tablette Tanzanie</td>\n",
       "      <td>NaN</td>\n",
       "      <td>0</td>\n",
       "    </tr>\n",
       "    <tr>\n",
       "      <th>2</th>\n",
       "      <td>France,Germany,United States</td>\n",
       "      <td>CORDYCEPS</td>\n",
       "      <td>NaN</td>\n",
       "      <td>0</td>\n",
       "    </tr>\n",
       "    <tr>\n",
       "      <th>3</th>\n",
       "      <td>United States</td>\n",
       "      <td>NaN</td>\n",
       "      <td>NaN</td>\n",
       "      <td>0</td>\n",
       "    </tr>\n",
       "    <tr>\n",
       "      <th>4</th>\n",
       "      <td>Germany,Greece</td>\n",
       "      <td>Javvy protein coffee</td>\n",
       "      <td>5.0</td>\n",
       "      <td>1</td>\n",
       "    </tr>\n",
       "    <tr>\n",
       "      <th>...</th>\n",
       "      <td>...</td>\n",
       "      <td>...</td>\n",
       "      <td>...</td>\n",
       "      <td>...</td>\n",
       "    </tr>\n",
       "    <tr>\n",
       "      <th>9995</th>\n",
       "      <td>United States</td>\n",
       "      <td>Jasmine Rice</td>\n",
       "      <td>1.0</td>\n",
       "      <td>0</td>\n",
       "    </tr>\n",
       "    <tr>\n",
       "      <th>9996</th>\n",
       "      <td>Bangladesh</td>\n",
       "      <td>NaN</td>\n",
       "      <td>NaN</td>\n",
       "      <td>0</td>\n",
       "    </tr>\n",
       "    <tr>\n",
       "      <th>9997</th>\n",
       "      <td>Germany</td>\n",
       "      <td>Entöltes Mandelmehl</td>\n",
       "      <td>NaN</td>\n",
       "      <td>0</td>\n",
       "    </tr>\n",
       "    <tr>\n",
       "      <th>9998</th>\n",
       "      <td>Ireland</td>\n",
       "      <td>Poulet curry vert thaï</td>\n",
       "      <td>NaN</td>\n",
       "      <td>0</td>\n",
       "    </tr>\n",
       "    <tr>\n",
       "      <th>9999</th>\n",
       "      <td>Germany</td>\n",
       "      <td>Feinherb Nuss Schokolade</td>\n",
       "      <td>NaN</td>\n",
       "      <td>0</td>\n",
       "    </tr>\n",
       "  </tbody>\n",
       "</table>\n",
       "<p>10000 rows × 4 columns</p>\n",
       "</div>"
      ]
     },
     "execution_count": 22,
     "metadata": {},
     "output_type": "execute_result"
    }
   ],
   "execution_count": 22
  },
  {
   "metadata": {
    "ExecuteTime": {
     "end_time": "2025-01-11T08:17:57.761757Z",
     "start_time": "2025-01-11T08:17:57.752343Z"
    }
   },
   "cell_type": "code",
   "source": [
    "# Remove rows where the HFSS score is missing and compute the average HFSS score per country\n",
    "opf_data = opf_data[opf_data['hfss_score'].notna()]\n",
    "opf_data['countries_en'] = opf_data['countries_en'].str.lower()\n",
    "opf_data['countries_en'] = opf_data['countries_en'].str.strip()\n",
    "\n",
    "hfss_avg = opf_data.groupby('countries_en')['hfss_score'].mean().sort_values(ascending=False)\n",
    "hfss_avg"
   ],
   "id": "87c4b0b355f34614",
   "outputs": [
    {
     "name": "stderr",
     "output_type": "stream",
     "text": [
      "/var/folders/_n/nybmwjg90rxfzcynss3bqkr80000gp/T/ipykernel_74046/3387671866.py:3: SettingWithCopyWarning: \n",
      "A value is trying to be set on a copy of a slice from a DataFrame.\n",
      "Try using .loc[row_indexer,col_indexer] = value instead\n",
      "\n",
      "See the caveats in the documentation: https://pandas.pydata.org/pandas-docs/stable/user_guide/indexing.html#returning-a-view-versus-a-copy\n",
      "  opf_data['countries_en'] = opf_data['countries_en'].str.lower()\n",
      "/var/folders/_n/nybmwjg90rxfzcynss3bqkr80000gp/T/ipykernel_74046/3387671866.py:4: SettingWithCopyWarning: \n",
      "A value is trying to be set on a copy of a slice from a DataFrame.\n",
      "Try using .loc[row_indexer,col_indexer] = value instead\n",
      "\n",
      "See the caveats in the documentation: https://pandas.pydata.org/pandas-docs/stable/user_guide/indexing.html#returning-a-view-versus-a-copy\n",
      "  opf_data['countries_en'] = opf_data['countries_en'].str.strip()\n"
     ]
    },
    {
     "data": {
      "text/plain": [
       "countries_en\n",
       "rwanda                           96.000000\n",
       "spain                            29.860465\n",
       "france,germany,world             23.000000\n",
       "hungary                          23.000000\n",
       "germany,united states            20.750000\n",
       "                                   ...    \n",
       "france,germany                  -32.250000\n",
       "italy,switzerland               -34.000000\n",
       "ukraine                         -51.000000\n",
       "mexico,peru                     -59.000000\n",
       "germany,north macedonia,spain   -90.000000\n",
       "Name: hfss_score, Length: 61, dtype: float64"
      ]
     },
     "execution_count": 23,
     "metadata": {},
     "output_type": "execute_result"
    }
   ],
   "execution_count": 23
  },
  {
   "metadata": {
    "ExecuteTime": {
     "end_time": "2025-01-11T08:14:27.204377Z",
     "start_time": "2025-01-11T08:14:27.081671Z"
    }
   },
   "cell_type": "code",
   "source": [
    "import matplotlib.pyplot as plt\n",
    "plt.figure(figsize=(10, 6))\n",
    "opf_data['hfss_score'].dropna().hist(bins=20, edgecolor='black')  # Drop NaN values\n",
    "plt.title('Distribution of HFSS Scores')\n",
    "plt.xlabel('HFSS Score')\n",
    "plt.ylabel('Number of Products')\n",
    "plt.show()"
   ],
   "id": "b96939b7a4e72af4",
   "outputs": [
    {
     "data": {
      "text/plain": [
       "<Figure size 1000x600 with 1 Axes>"
      ],
      "image/png": "[encoded data removed]"
     },
     "metadata": {},
     "output_type": "display_data"
    }
   ],
   "execution_count": 15
  },
  {
   "metadata": {},
   "cell_type": "code",
   "outputs": [],
   "execution_count": null,
   "source": "",
   "id": "2a40b358689ae7d0"
  }
 ],
 "metadata": {
  "kernelspec": {
   "display_name": "Python 3",
   "language": "python",
   "name": "python3"
  },
  "language_info": {
   "codemirror_mode": {
    "name": "ipython",
    "version": 2
   },
   "file_extension": ".py",
   "mimetype": "text/x-python",
   "name": "python",
   "nbconvert_exporter": "python",
   "pygments_lexer": "ipython2",
   "version": "2.7.6"
  }
 },
 "nbformat": 4,
 "nbformat_minor": 5
}
